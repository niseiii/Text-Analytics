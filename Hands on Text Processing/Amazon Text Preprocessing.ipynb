{
 "cells": [
  {
   "cell_type": "code",
   "execution_count": 1,
   "id": "2af7f538",
   "metadata": {},
   "outputs": [],
   "source": [
    "import pandas as pd"
   ]
  },
  {
   "cell_type": "code",
   "execution_count": 4,
   "id": "55dda970",
   "metadata": {},
   "outputs": [
    {
     "data": {
      "text/plain": [
       "0         I have bought several of the Vitality canned d...\n",
       "1         Product arrived labeled as Jumbo Salted Peanut...\n",
       "2         This is a confection that has been around a fe...\n",
       "3         If you are looking for the secret ingredient i...\n",
       "4         Great taffy at a great price.  There was a wid...\n",
       "                                ...                        \n",
       "568449    Great for sesame chicken..this is a good if no...\n",
       "568450    I'm disappointed with the flavor. The chocolat...\n",
       "568451    These stars are small, so you can give 10-15 o...\n",
       "568452    These are the BEST treats for training and rew...\n",
       "568453    I am very satisfied ,product is as advertised,...\n",
       "Name: Text, Length: 568454, dtype: object"
      ]
     },
     "execution_count": 4,
     "metadata": {},
     "output_type": "execute_result"
    }
   ],
   "source": [
    "data = pd.read_csv(\"Reviews.csv\")\n",
    "data_t = data[\"Text\"]\n",
    "data_t"
   ]
  },
  {
   "cell_type": "code",
   "execution_count": 5,
   "id": "d16a4f4d",
   "metadata": {},
   "outputs": [
    {
     "name": "stdout",
     "output_type": "stream",
     "text": [
      "174875\n"
     ]
    }
   ],
   "source": [
    "data_t_duplicates=data_t.duplicated()\n",
    "print (data_t_duplicates.sum())"
   ]
  },
  {
   "cell_type": "code",
   "execution_count": 6,
   "id": "a086e736",
   "metadata": {},
   "outputs": [
    {
     "name": "stdout",
     "output_type": "stream",
     "text": [
      "<class 'pandas.core.series.Series'>\n",
      "Index: 393579 entries, 0 to 568453\n",
      "Series name: Text\n",
      "Non-Null Count   Dtype \n",
      "--------------   ----- \n",
      "393579 non-null  object\n",
      "dtypes: object(1)\n",
      "memory usage: 6.0+ MB\n",
      "None\n"
     ]
    }
   ],
   "source": [
    "data_rdup = data_t.drop_duplicates(keep='first')\n",
    "print (data_rdup.info())"
   ]
  },
  {
   "cell_type": "code",
   "execution_count": 7,
   "id": "e3c0c1f3",
   "metadata": {},
   "outputs": [],
   "source": [
    "import re\n",
    "import string"
   ]
  },
  {
   "cell_type": "code",
   "execution_count": 10,
   "id": "aa0e9056",
   "metadata": {},
   "outputs": [],
   "source": [
    "def cleaned_data(sentence):\n",
    "    modified_sentence = ''.join([i if i not in string.punctuation else '' for i in sentence])\n",
    "    modified_sentence = re.sub(r'<.*?>', '', modified_sentence)\n",
    "    modified_sentence = re.sub(r'\\d+', '', modified_sentence)\n",
    "    modified_sentence = re.sub(r'\\s+', '', modified_sentence) \n",
    "    modified_sentence = modified_sentence.lower()\n",
    "    return modified_sentence"
   ]
  },
  {
   "cell_type": "code",
   "execution_count": 11,
   "id": "cb9ee75c",
   "metadata": {},
   "outputs": [
    {
     "name": "stdout",
     "output_type": "stream",
     "text": [
      "Product received is as advertised.<br /><br /><a href=\"http://www.amazon.com/gp/product/B001GVISJM\">Twizzlers, Strawberry, 16-Ounce Bags (Pack of 6)</a>\n",
      "productreceivedisasadvertisedbrbrahrefhttpwwwamazoncomgpproductbgvisjmtwizzlersstrawberryouncebagspackofa\n"
     ]
    }
   ],
   "source": [
    "data_rdupclean = data_rdup.apply(cleaned_data)\n",
    "print(data_rdup[25])\n",
    "print(data_rdupclean[25])"
   ]
  },
  {
   "cell_type": "code",
   "execution_count": 12,
   "id": "273d2562",
   "metadata": {},
   "outputs": [
    {
     "name": "stderr",
     "output_type": "stream",
     "text": [
      "[nltk_data] Downloading package punkt to\n",
      "[nltk_data]     C:\\Users\\USER\\AppData\\Roaming\\nltk_data...\n",
      "[nltk_data]   Package punkt is already up-to-date!\n"
     ]
    },
    {
     "data": {
      "text/plain": [
       "True"
      ]
     },
     "execution_count": 12,
     "metadata": {},
     "output_type": "execute_result"
    }
   ],
   "source": [
    "import nltk\n",
    "nltk.download('punkt')"
   ]
  },
  {
   "cell_type": "code",
   "execution_count": 13,
   "id": "1fd1c117",
   "metadata": {},
   "outputs": [],
   "source": [
    "from nltk.tokenize import word_tokenize"
   ]
  },
  {
   "cell_type": "code",
   "execution_count": 14,
   "id": "24d80ff2",
   "metadata": {},
   "outputs": [
    {
     "name": "stdout",
     "output_type": "stream",
     "text": [
      "['Product', 'arrived', 'labeled', 'as', 'Jumbo', 'Salted', 'Peanuts', '...', 'the', 'peanuts', 'were', 'actually', 'small', 'sized', 'unsalted', '.', 'Not', 'sure', 'if', 'this', 'was', 'an', 'error', 'or', 'if', 'the', 'vendor', 'intended', 'to', 'represent', 'the', 'product', 'as', '``', 'Jumbo', \"''\", '.']\n"
     ]
    }
   ],
   "source": [
    "data_rdupclt = data_rdup.apply(word_tokenize)\n",
    "print(data_rdupclt[1])"
   ]
  },
  {
   "cell_type": "code",
   "execution_count": null,
   "id": "7213e8dd",
   "metadata": {},
   "outputs": [],
   "source": []
  }
 ],
 "metadata": {
  "kernelspec": {
   "display_name": "Python 3 (ipykernel)",
   "language": "python",
   "name": "python3"
  },
  "language_info": {
   "codemirror_mode": {
    "name": "ipython",
    "version": 3
   },
   "file_extension": ".py",
   "mimetype": "text/x-python",
   "name": "python",
   "nbconvert_exporter": "python",
   "pygments_lexer": "ipython3",
   "version": "3.11.5"
  }
 },
 "nbformat": 4,
 "nbformat_minor": 5
}
