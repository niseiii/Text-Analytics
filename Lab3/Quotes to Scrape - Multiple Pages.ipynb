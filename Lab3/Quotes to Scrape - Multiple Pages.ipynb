{
 "cells": [
  {
   "cell_type": "code",
   "execution_count": 8,
   "id": "bea10006",
   "metadata": {},
   "outputs": [],
   "source": [
    "import requests\n",
    "from bs4 import BeautifulSoup\n",
    "import csv"
   ]
  },
  {
   "cell_type": "code",
   "execution_count": 9,
   "id": "73b7140b",
   "metadata": {},
   "outputs": [],
   "source": [
    "# Function to scrape quotes from a page\n",
    "def scrape_page(soup, quotes):\n",
    "    for quote in soup.find_all('div', class_='quote'):\n",
    "        text = quote.find('span', class_='text').text\n",
    "        author = quote.find('small', class_='author').text\n",
    "        tags = ', '.join(tag.text for tag in quote.find_all('a', class_='tag'))\n",
    "        quotes.append({'Text': text, 'Author': author, 'Tags': tags})"
   ]
  },
  {
   "cell_type": "code",
   "execution_count": 10,
   "id": "77b4e8be",
   "metadata": {},
   "outputs": [],
   "source": [
    "# Base URL and headers\n",
    "base_url = 'https://quotes.toscrape.com'\n",
    "headers = {'User-Agent': 'Mozilla/5.0'}\n"
   ]
  },
  {
   "cell_type": "code",
   "execution_count": 11,
   "id": "35bdc250",
   "metadata": {},
   "outputs": [],
   "source": [
    "# List to store quotes\n",
    "quotes = []"
   ]
  },
  {
   "cell_type": "code",
   "execution_count": 12,
   "id": "7430e4f8",
   "metadata": {},
   "outputs": [],
   "source": [
    "# Function to scrape quotes from multiple pages\n",
    "def scrape_all_pages(url):\n",
    "    while url:\n",
    "        response = requests.get(url, headers=headers)\n",
    "        soup = BeautifulSoup(response.text, 'html.parser')\n",
    "        scrape_page(soup, quotes)\n",
    "        next_page = soup.find('li', class_='next')\n",
    "        url = base_url + next_page.find('a')['href'] if next_page else None"
   ]
  },
  {
   "cell_type": "code",
   "execution_count": 13,
   "id": "7753df25",
   "metadata": {
    "scrolled": true
   },
   "outputs": [],
   "source": [
    "# Scrape quotes from all pages\n",
    "scrape_all_pages(base_url)"
   ]
  },
  {
   "cell_type": "code",
   "execution_count": 14,
   "id": "f851c454",
   "metadata": {},
   "outputs": [],
   "source": [
    "# Save quotes to CSV file\n",
    "with open('quotes2.csv', 'w', newline='', encoding='utf-8') as csvfile:\n",
    "    writer = csv.DictWriter(csvfile, fieldnames=['Text', 'Author', 'Tags'])\n",
    "    writer.writeheader()\n",
    "    writer.writerows(quotes)"
   ]
  },
  {
   "cell_type": "code",
   "execution_count": null,
   "id": "76b5ee02",
   "metadata": {},
   "outputs": [],
   "source": []
  }
 ],
 "metadata": {
  "kernelspec": {
   "display_name": "Python 3 (ipykernel)",
   "language": "python",
   "name": "python3"
  },
  "language_info": {
   "codemirror_mode": {
    "name": "ipython",
    "version": 3
   },
   "file_extension": ".py",
   "mimetype": "text/x-python",
   "name": "python",
   "nbconvert_exporter": "python",
   "pygments_lexer": "ipython3",
   "version": "3.11.5"
  }
 },
 "nbformat": 4,
 "nbformat_minor": 5
}
